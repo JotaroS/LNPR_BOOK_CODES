{
 "cells": [
  {
   "cell_type": "code",
   "execution_count": 17,
   "metadata": {
    "scrolled": false
   },
   "outputs": [],
   "source": [
    "import pandas as pd\n",
    "import matplotlib.pyplot as plt\n",
    "import seaborn as sns"
   ]
  },
  {
   "cell_type": "code",
   "execution_count": 18,
   "metadata": {
    "collapsed": true
   },
   "outputs": [],
   "source": [
    "df = pd.read_csv(\"sensor_data_200.txt\", delimiter=\" \", header = None, names = (\"date\",\"time\",\"ir\",\"lidar\"))"
   ]
  },
  {
   "cell_type": "code",
   "execution_count": 21,
   "metadata": {},
   "outputs": [
    {
     "data": {
      "text/plain": [
       "(array([4.000e+00, 1.000e+01, 1.300e+01, 5.900e+01, 8.400e+01, 2.050e+02,\n",
       "        3.530e+02, 6.680e+02, 1.053e+03, 1.584e+03, 2.252e+03, 2.638e+03,\n",
       "        3.225e+03, 3.674e+03, 3.920e+03, 4.261e+03, 4.228e+03, 4.355e+03,\n",
       "        4.409e+03, 4.201e+03, 3.897e+03, 3.572e+03, 3.108e+03, 2.459e+03,\n",
       "        1.812e+03, 1.224e+03, 7.490e+02, 4.860e+02, 2.520e+02, 1.270e+02,\n",
       "        5.500e+01, 3.200e+01, 0.000e+00, 1.500e+01, 3.000e+00, 1.000e+00]),\n",
       " array([193., 194., 195., 196., 197., 198., 199., 200., 201., 202., 203.,\n",
       "        204., 205., 206., 207., 208., 209., 210., 211., 212., 213., 214.,\n",
       "        215., 216., 217., 218., 219., 220., 221., 222., 223., 224., 225.,\n",
       "        226., 227., 228., 229.]),\n",
       " <a list of 36 Patch objects>)"
      ]
     },
     "execution_count": 21,
     "metadata": {},
     "output_type": "execute_result"
    },
    {
     "data": {
      "image/png": "[encoded data removed]",
      "text/plain": [
       "<Figure size 432x288 with 1 Axes>"
      ]
     },
     "metadata": {},
     "output_type": "display_data"
    }
   ],
   "source": [
    "plt.grid()\n",
    "plt.hist(df.lidar, bins = max(df.lidar) - min(df.lidar))"
   ]
  },
  {
   "cell_type": "code",
   "execution_count": null,
   "metadata": {},
   "outputs": [],
   "source": []
  }
 ],
 "metadata": {
  "kernelspec": {
   "display_name": "Python 3",
   "language": "python",
   "name": "python3"
  },
  "language_info": {
   "codemirror_mode": {
    "name": "ipython",
    "version": 3
   },
   "file_extension": ".py",
   "mimetype": "text/x-python",
   "name": "python",
   "nbconvert_exporter": "python",
   "pygments_lexer": "ipython3",
   "version": "3.6.5"
  }
 },
 "nbformat": 4,
 "nbformat_minor": 2
}
